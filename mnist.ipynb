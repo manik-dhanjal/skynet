{
 "cells": [
  {
   "cell_type": "code",
   "id": "initial_id",
   "metadata": {
    "collapsed": true,
    "ExecuteTime": {
     "end_time": "2025-09-07T17:45:17.723838Z",
     "start_time": "2025-09-07T17:45:17.642111Z"
    }
   },
   "source": [
    "from neural_engine.nn import MLP, mse_loss, Layer\n",
    "from tensorflow import keras\n",
    "import numpy as np\n",
    "import io\n",
    "import matplotlib.pyplot as plt\n",
    "\n",
    "(X_train,y_train),(X_test,y_test) = keras.datasets.mnist.load_data()"
   ],
   "outputs": [],
   "execution_count": 2
  },
  {
   "metadata": {
    "ExecuteTime": {
     "end_time": "2025-09-07T17:45:17.800199Z",
     "start_time": "2025-09-07T17:45:17.730474Z"
    }
   },
   "cell_type": "code",
   "source": [
    "\n",
    "plt.imshow(X_train[0]) # 2D list of grayscale values ranging between 0-255 array of 28*28 = 784\n",
    "print(y_train[0]) # expected output"
   ],
   "id": "d5b8a928a58abbf1",
   "outputs": [
    {
     "name": "stdout",
     "output_type": "stream",
     "text": [
      "5\n"
     ]
    },
    {
     "data": {
      "text/plain": [
       "<Figure size 640x480 with 1 Axes>"
      ],
      "image/png": "[encoded data removed]"
     },
     "metadata": {},
     "output_type": "display_data"
    }
   ],
   "execution_count": 3
  },
  {
   "metadata": {
    "ExecuteTime": {
     "end_time": "2025-09-07T17:45:23.365657Z",
     "start_time": "2025-09-07T17:45:17.821600Z"
    }
   },
   "cell_type": "code",
   "source": "flat_x_train = [[x/255 for row in mat for x in row] for mat in X_train]",
   "id": "3178ff886e40046a",
   "outputs": [],
   "execution_count": 4
  },
  {
   "metadata": {
    "ExecuteTime": {
     "end_time": "2025-09-07T17:45:25.388567Z",
     "start_time": "2025-09-07T17:45:23.443012Z"
    }
   },
   "cell_type": "code",
   "source": [
    "l1 = Layer(nin=784,nout=128, act_type='relu', name='layer 1')\n",
    "l2 = Layer(nin=128, nout=32, act_type='relu', name='layer 2')\n",
    "l3 = Layer(nin=32, nout=10, act_type='sigmoid', name='layer 3')\n",
    "\n",
    "model = MLP(layers=[l1,l2,l3])#initialize model\n"
   ],
   "id": "9a1097f81237f70a",
   "outputs": [],
   "execution_count": 5
  },
  {
   "metadata": {
    "ExecuteTime": {
     "end_time": "2025-09-07T18:13:24.086123Z",
     "start_time": "2025-09-07T18:13:24.077624Z"
    }
   },
   "cell_type": "code",
   "source": [
    "def train_model(xs_batch:list[list[np.int8]], ys_batch:[np.int8]):\n",
    "    # forward propagation\n",
    "    ypred_batch = [model(xs) for xs in xs_batch]\n",
    "    # print(ypred)\n",
    "    # calculating loss\n",
    "    loss = sum(mse_loss(ys, ypred) for ys, ypred in zip(ys_batch, ypred_batch))\n",
    "\n",
    "    for param in model.parameters():\n",
    "        param.grad = 0\n",
    "\n",
    "    # backward propagation\n",
    "    loss.backward()\n",
    "\n",
    "    # changing parameters based on gradients\n",
    "    for param in model.parameters():\n",
    "        param.data += -0.05*param.grad\n",
    "\n",
    "    return loss"
   ],
   "id": "b21bc65cf6be5309",
   "outputs": [],
   "execution_count": 41
  },
  {
   "metadata": {
    "jupyter": {
     "is_executing": true
    },
    "ExecuteTime": {
     "start_time": "2025-09-07T18:13:26.474817Z"
    }
   },
   "cell_type": "code",
   "source": [
    "batch_size = 25\n",
    "mini_batches = [\n",
    "    [flat_x_train[i:i+batch_size], y_train[i:i+batch_size]]\n",
    "    for i in range(0, len(y_train), batch_size)\n",
    "]\n",
    "print(f'total batches={len(mini_batches)}')\n",
    "\n",
    "for idx,batch in enumerate(mini_batches):\n",
    "    y_exp = [[1 if i==y else 0 for i in range(10)] for y in batch[1]]\n",
    "    loss = train_model( batch[0], y_exp)\n",
    "    print(f'{idx} loss = {loss.data} number={batch[1]}')"
   ],
   "id": "cbf9e8d5350789ef",
   "outputs": [
    {
     "name": "stdout",
     "output_type": "stream",
     "text": [
      "total batches=25\n",
      "0 loss = 204.59371012109324 number=[5 0 4 1 9 2 1 3 1 4 3 5 3 6 1 7 2 8 6 9 4 0 9 1 1]\n",
      "1 loss = 197.35595010350835 number=[2 4 3 2 7 3 8 6 9 0 5 6 0 7 6 1 8 7 9 3 9 8 5 9 3]\n"
     ]
    }
   ],
   "execution_count": null
  },
  {
   "metadata": {},
   "cell_type": "code",
   "source": [
    "fitting = 0\n",
    "for exp_num, img in zip(y_test, X_test):\n",
    "    res = model([p/255 for row in img for p in row])\n",
    "    print(res)\n",
    "    res_num = max(range(len(res)), key=lambda i: res[i].data)\n",
    "    fitting = fitting+1 if res_num==exp_num else fitting\n",
    "    print(exp_num, res_num)\n",
    "\n",
    "print(f'success rate: {fitting/len(y_test) * 100}%')"
   ],
   "id": "68ea2771be52fa3b",
   "outputs": [],
   "execution_count": null
  }
 ],
 "metadata": {
  "kernelspec": {
   "display_name": "Python 3",
   "language": "python",
   "name": "python3"
  },
  "language_info": {
   "codemirror_mode": {
    "name": "ipython",
    "version": 2
   },
   "file_extension": ".py",
   "mimetype": "text/x-python",
   "name": "python",
   "nbconvert_exporter": "python",
   "pygments_lexer": "ipython2",
   "version": "2.7.6"
  }
 },
 "nbformat": 4,
 "nbformat_minor": 5
}
