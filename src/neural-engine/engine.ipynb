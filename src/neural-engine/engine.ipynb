{
 "cells": [
  {
   "metadata": {
    "ExecuteTime": {
     "end_time": "2025-09-06T06:02:49.290153Z",
     "start_time": "2025-09-06T06:02:49.259135Z"
    }
   },
   "cell_type": "code",
   "source": [
    "import math\n",
    "import graphviz\n",
    "\n",
    "class Value:\n",
    "    def __init__(self, data: float, _children=(), _op:str=None, label=''):\n",
    "        self.data = data\n",
    "        self._children = _children\n",
    "        self._op = _op\n",
    "        self.label = label\n",
    "\n",
    "    def __repr__(self):\n",
    "        return f\"Value({self.data}, {self.label})\"\n",
    "\n",
    "    def __add__(self, other):\n",
    "        out = Value(data = self.data + other.data, _children = (self, other), _op = '+')\n",
    "        return out\n",
    "\n",
    "    def __mul__(self, other):\n",
    "        out = Value(data = self.data * other.data, _children = (self, other), _op = '*')\n",
    "        return out\n",
    "\n",
    "    def __truediv__(self, other):\n",
    "        out = Value(data = self.data / other.data, _children=(self, other), _op = '/')\n",
    "        return out\n",
    "\n",
    "    def tan(self):\n",
    "        tan_val = (math.exp(self.data ** 2) - 1)/(math.exp(self.data**2) +1)\n",
    "        out = Value(data =  tan_val, _children=( self ), _op='tan')\n",
    "        return out"
   ],
   "id": "a4b974a70643ceea",
   "outputs": [],
   "execution_count": 1
  },
  {
   "metadata": {},
   "cell_type": "code",
   "outputs": [],
   "execution_count": null,
   "source": "a = Value(2.0, )",
   "id": "925463eea78e581"
  }
 ],
 "metadata": {
  "kernelspec": {
   "name": "python3",
   "language": "python",
   "display_name": "Python 3 (ipykernel)"
  }
 },
 "nbformat": 4,
 "nbformat_minor": 5
}
