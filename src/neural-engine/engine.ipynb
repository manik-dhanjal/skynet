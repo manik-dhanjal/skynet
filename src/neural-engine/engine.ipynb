{
 "cells": [
  {
   "metadata": {
    "ExecuteTime": {
     "end_time": "2025-09-06T13:25:27.622633Z",
     "start_time": "2025-09-06T13:25:27.607780Z"
    }
   },
   "cell_type": "code",
   "source": [
    "import math\n",
    "import graphviz\n",
    "from graphviz import nohtml\n",
    "\n",
    "class Value:\n",
    "    def __init__(self, data: float, _children=(), _op:str=None, label=''):\n",
    "        self.data = data\n",
    "        self.grad = 0\n",
    "        self._backward = lambda: None\n",
    "        self._children = _children\n",
    "        self._op = _op\n",
    "        self.label = label\n",
    "\n",
    "    def __repr__(self):\n",
    "        return f\"Value({self.data}, {self.label})\"\n",
    "\n",
    "    def __add__(self, other):\n",
    "        other = other if isinstance(other, Value) else Value(data=other)\n",
    "        out = Value(data = self.data + other.data, _children = (self, other), _op = '+')\n",
    "        def _backward ():\n",
    "            self.grad += 1 * out.grad\n",
    "            other.grad += 1 * out.grad\n",
    "        out._backward = _backward\n",
    "        return out\n",
    "\n",
    "    def __sub__(self, other):\n",
    "        return self+ (-other)\n",
    "\n",
    "    def __neg__(self):\n",
    "        return  self * -1\n",
    "\n",
    "    def __mul__(self, other):\n",
    "        other = other if isinstance(other, Value) else Value(data=other)\n",
    "        out = Value(data = self.data * other.data, _children = (self, other), _op = '*')\n",
    "        def _backward():\n",
    "            self.grad += other.data * out.grad\n",
    "            other.grad += self.data * out.grad\n",
    "        out._backward = _backward\n",
    "        return out\n",
    "\n",
    "    def __rmul__(self, other):\n",
    "        return self * other\n",
    "\n",
    "    def __radd__(self, other):\n",
    "        return self + other\n",
    "\n",
    "    def tan(self):\n",
    "        tan_val = (math.exp(2 * self.data) - 1)/(math.exp(2 * self.data) +1)\n",
    "        out = Value(data =  tan_val, _children=( self, ), _op='tan')\n",
    "        def _backward():\n",
    "            self.grad += 1 - tan_val**2\n",
    "        out._backward = _backward\n",
    "        return out\n",
    "\n",
    "    def exp(self):\n",
    "        exp_val = math.exp(self.data)\n",
    "        out = Value(exp_val, _op='exp', _children=(self,) )\n",
    "        def _backward():\n",
    "            self.grad += exp_val*out.grad\n",
    "        out._backward = _backward\n",
    "        return out\n",
    "\n",
    "    def __pow__(self, power, modulo=None):\n",
    "        power = power if isinstance(power, Value) else Value(data=power)\n",
    "        out = Value(self.data**power.data, _op='**', _children=(self, power))\n",
    "        def _backward():\n",
    "            self.grad = (power.data* (self.data**(power.data-1)))*out.grad\n",
    "            power.grad = (math.log(self.data)*(self.data**power.data))*out.grad\n",
    "        out._backward = _backward\n",
    "        return out\n",
    "\n",
    "    def __truediv__(self, other):\n",
    "        other = other if isinstance(other, Value) else Value(data=other)\n",
    "        return self * (other**-1)\n",
    "\n",
    "    def backward(self):\n",
    "        self.grad = 1\n",
    "        stack = [self]\n",
    "        visited = set()\n",
    "        while len(stack):\n",
    "            cur = stack.pop()\n",
    "            if cur not in visited:\n",
    "                visited.add(cur)\n",
    "                if cur._backward is not None:\n",
    "                    cur._backward()\n",
    "                if cur._children is not None:\n",
    "                    stack+= cur._children\n"
   ],
   "id": "a4b974a70643ceea",
   "outputs": [],
   "execution_count": 379
  },
  {
   "metadata": {
    "ExecuteTime": {
     "end_time": "2025-09-06T13:25:27.643530Z",
     "start_time": "2025-09-06T13:25:27.632001Z"
    }
   },
   "cell_type": "code",
   "outputs": [],
   "execution_count": 380,
   "source": [
    "def draw_graph(parent: Value):\n",
    "    f = graphviz.Digraph(node_attr={'shape': 'record'}, format='svg', graph_attr={'rankdir': 'LR'})\n",
    "    stack = [parent];\n",
    "    f.node(str(id(parent)),nohtml(f'<f0> {parent.label} |<f1> Data: {parent.data}|<f2>Grad: {parent.grad}'))\n",
    "    while len(stack)!=0:\n",
    "        cur = stack.pop()\n",
    "        cur_uid = str(id(cur))\n",
    "        if cur._op != None :\n",
    "            f.node(name=cur_uid+cur._op, label=cur._op,shape='oval')\n",
    "            f.edge(cur_uid+cur._op, cur_uid)\n",
    "        if cur._children is not None:\n",
    "            for children in cur._children:\n",
    "                child_uid = str(id(children))\n",
    "                f.node(child_uid ,nohtml(f'<f0> {children.label} |<f1> Data: {children.data}|<f2>Grad: {children.grad}'))\n",
    "                if cur._op != None :\n",
    "                    f.edge(child_uid, cur_uid+cur._op)\n",
    "                stack.append(children)\n",
    "    return f\n"
   ],
   "id": "bdaa28f3b2e7b487"
  },
  {
   "metadata": {
    "ExecuteTime": {
     "end_time": "2025-09-06T13:25:27.657372Z",
     "start_time": "2025-09-06T13:25:27.652902Z"
    }
   },
   "cell_type": "code",
   "source": [
    "# input\n",
    "x1 = Value(data=2.0, label='x1')\n",
    "x2 = Value(data=0.0, label='x2')\n",
    "# weights\n",
    "w1 = Value(data=-3.0, label='w1')\n",
    "w2 = Value(data=1.0, label='w2')\n",
    "#bias\n",
    "b = Value(data=6.8814, label='b')\n",
    "\n",
    "x1w1 = x1 * w1; x1w1.label='x1*w1'\n",
    "x2w2 = x2 * w2; x2w2.label='x2*w2'\n",
    "x1w1_x2w2 = x1w1 + x2w2; x1w1_x2w2.label = 'x1*w1 + x2*w2'\n",
    "n = x1w1_x2w2 + b; n.label='x1w1*x2w2 + b'\n",
    "o = n.tan(); o.label='o'"
   ],
   "id": "577ff15d8153be5b",
   "outputs": [],
   "execution_count": 381
  },
  {
   "metadata": {
    "ExecuteTime": {
     "end_time": "2025-09-06T13:25:27.838993Z",
     "start_time": "2025-09-06T13:25:27.666129Z"
    }
   },
   "cell_type": "code",
   "source": "draw_graph(o)",
   "id": "69367c7cb43ffa8b",
   "outputs": [
    {
     "data": {
      "image/svg+xml": "<?xml version=\"1.0\" encoding=\"UTF-8\" standalone=\"no\"?>\n<!DOCTYPE svg PUBLIC \"-//W3C//DTD SVG 1.1//EN\"\n \"http://www.w3.org/Graphics/SVG/1.1/DTD/svg11.dtd\">\n<!-- Generated by graphviz version 13.1.2 (20250808.2320)\n -->\n<!-- Pages: 1 -->\n<svg width=\"1094pt\" height=\"362pt\"\n viewBox=\"0.00 0.00 1094.00 362.00\" xmlns=\"http://www.w3.org/2000/svg\" xmlns:xlink=\"http://www.w3.org/1999/xlink\">\n<g id=\"graph0\" class=\"graph\" transform=\"scale(1 1) rotate(0) translate(4 357.5)\">\n<polygon fill=\"white\" stroke=\"none\" points=\"-4,4 -4,-357.5 1089.75,-357.5 1089.75,4 -4,4\"/>\n<!-- 4355552016 -->\n<g id=\"node1\" class=\"node\">\n<title>4355552016</title>\n<polygon fill=\"none\" stroke=\"black\" points=\"918.25,-92.5 918.25,-166 1085.75,-166 1085.75,-92.5 918.25,-92.5\"/>\n<text xml:space=\"preserve\" text-anchor=\"middle\" x=\"1002\" y=\"-148.7\" font-family=\"Times,serif\" font-size=\"14.00\">o</text>\n<polyline fill=\"none\" stroke=\"black\" points=\"918.25,-141.5 1085.75,-141.5\"/>\n<text xml:space=\"preserve\" text-anchor=\"middle\" x=\"1002\" y=\"-124.2\" font-family=\"Times,serif\" font-size=\"14.00\">Data: 0.7071199874301227</text>\n<polyline fill=\"none\" stroke=\"black\" points=\"918.25,-117 1085.75,-117\"/>\n<text xml:space=\"preserve\" text-anchor=\"middle\" x=\"1002\" y=\"-99.7\" font-family=\"Times,serif\" font-size=\"14.00\">Grad: 0</text>\n</g>\n<!-- 4355552016tan -->\n<g id=\"node2\" class=\"node\">\n<title>4355552016tan</title>\n<ellipse fill=\"none\" stroke=\"black\" cx=\"855.25\" cy=\"-129.25\" rx=\"27\" ry=\"18\"/>\n<text xml:space=\"preserve\" text-anchor=\"middle\" x=\"855.25\" y=\"-124.2\" font-family=\"Times,serif\" font-size=\"14.00\">tan</text>\n</g>\n<!-- 4355552016tan&#45;&gt;4355552016 -->\n<g id=\"edge1\" class=\"edge\">\n<title>4355552016tan&#45;&gt;4355552016</title>\n<path fill=\"none\" stroke=\"black\" d=\"M882.46,-129.25C889.68,-129.25 897.95,-129.25 906.69,-129.25\"/>\n<polygon fill=\"black\" stroke=\"black\" points=\"906.46,-132.75 916.46,-129.25 906.46,-125.75 906.46,-132.75\"/>\n</g>\n<!-- 4355552928 -->\n<g id=\"node3\" class=\"node\">\n<title>4355552928</title>\n<polygon fill=\"none\" stroke=\"black\" points=\"624.75,-92.5 624.75,-166 792.25,-166 792.25,-92.5 624.75,-92.5\"/>\n<text xml:space=\"preserve\" text-anchor=\"middle\" x=\"708.5\" y=\"-148.7\" font-family=\"Times,serif\" font-size=\"14.00\">x1w1*x2w2 + b</text>\n<polyline fill=\"none\" stroke=\"black\" points=\"624.75,-141.5 792.25,-141.5\"/>\n<text xml:space=\"preserve\" text-anchor=\"middle\" x=\"708.5\" y=\"-124.2\" font-family=\"Times,serif\" font-size=\"14.00\">Data: 0.8814000000000002</text>\n<polyline fill=\"none\" stroke=\"black\" points=\"624.75,-117 792.25,-117\"/>\n<text xml:space=\"preserve\" text-anchor=\"middle\" x=\"708.5\" y=\"-99.7\" font-family=\"Times,serif\" font-size=\"14.00\">Grad: 0</text>\n</g>\n<!-- 4355552928&#45;&gt;4355552016tan -->\n<g id=\"edge2\" class=\"edge\">\n<title>4355552928&#45;&gt;4355552016tan</title>\n<path fill=\"none\" stroke=\"black\" d=\"M792.44,-129.25C800.9,-129.25 809.16,-129.25 816.75,-129.25\"/>\n<polygon fill=\"black\" stroke=\"black\" points=\"816.54,-132.75 826.54,-129.25 816.54,-125.75 816.54,-132.75\"/>\n</g>\n<!-- 4355552928+ -->\n<g id=\"node4\" class=\"node\">\n<title>4355552928+</title>\n<ellipse fill=\"none\" stroke=\"black\" cx=\"561.75\" cy=\"-129.25\" rx=\"27\" ry=\"18\"/>\n<text xml:space=\"preserve\" text-anchor=\"middle\" x=\"561.75\" y=\"-124.2\" font-family=\"Times,serif\" font-size=\"14.00\">+</text>\n</g>\n<!-- 4355552928+&#45;&gt;4355552928 -->\n<g id=\"edge3\" class=\"edge\">\n<title>4355552928+&#45;&gt;4355552928</title>\n<path fill=\"none\" stroke=\"black\" d=\"M588.96,-129.25C596.18,-129.25 604.45,-129.25 613.19,-129.25\"/>\n<polygon fill=\"black\" stroke=\"black\" points=\"612.96,-132.75 622.96,-129.25 612.96,-125.75 612.96,-132.75\"/>\n</g>\n<!-- 4355553120 -->\n<g id=\"node5\" class=\"node\">\n<title>4355553120</title>\n<polygon fill=\"none\" stroke=\"black\" points=\"393.5,-139.5 393.5,-213 498.75,-213 498.75,-139.5 393.5,-139.5\"/>\n<text xml:space=\"preserve\" text-anchor=\"middle\" x=\"446.12\" y=\"-195.7\" font-family=\"Times,serif\" font-size=\"14.00\">x1*w1 + x2*w2</text>\n<polyline fill=\"none\" stroke=\"black\" points=\"393.5,-188.5 498.75,-188.5\"/>\n<text xml:space=\"preserve\" text-anchor=\"middle\" x=\"446.12\" y=\"-171.2\" font-family=\"Times,serif\" font-size=\"14.00\">Data: &#45;6.0</text>\n<polyline fill=\"none\" stroke=\"black\" points=\"393.5,-164 498.75,-164\"/>\n<text xml:space=\"preserve\" text-anchor=\"middle\" x=\"446.12\" y=\"-146.7\" font-family=\"Times,serif\" font-size=\"14.00\">Grad: 0</text>\n</g>\n<!-- 4355553120&#45;&gt;4355552928+ -->\n<g id=\"edge4\" class=\"edge\">\n<title>4355553120&#45;&gt;4355552928+</title>\n<path fill=\"none\" stroke=\"black\" d=\"M498.95,-154.81C508.77,-150.75 518.79,-146.61 527.83,-142.87\"/>\n<polygon fill=\"black\" stroke=\"black\" points=\"528.98,-146.18 536.88,-139.12 526.3,-139.71 528.98,-146.18\"/>\n</g>\n<!-- 4354841664 -->\n<g id=\"node6\" class=\"node\">\n<title>4354841664</title>\n<polygon fill=\"none\" stroke=\"black\" points=\"402.88,-46.5 402.88,-120 489.38,-120 489.38,-46.5 402.88,-46.5\"/>\n<text xml:space=\"preserve\" text-anchor=\"middle\" x=\"446.12\" y=\"-102.7\" font-family=\"Times,serif\" font-size=\"14.00\">b</text>\n<polyline fill=\"none\" stroke=\"black\" points=\"402.88,-95.5 489.38,-95.5\"/>\n<text xml:space=\"preserve\" text-anchor=\"middle\" x=\"446.12\" y=\"-78.2\" font-family=\"Times,serif\" font-size=\"14.00\">Data: 6.8814</text>\n<polyline fill=\"none\" stroke=\"black\" points=\"402.88,-71 489.38,-71\"/>\n<text xml:space=\"preserve\" text-anchor=\"middle\" x=\"446.12\" y=\"-53.7\" font-family=\"Times,serif\" font-size=\"14.00\">Grad: 0</text>\n</g>\n<!-- 4354841664&#45;&gt;4355552928+ -->\n<g id=\"edge5\" class=\"edge\">\n<title>4354841664&#45;&gt;4355552928+</title>\n<path fill=\"none\" stroke=\"black\" d=\"M489.76,-100.51C502.29,-105.58 515.81,-111.06 527.66,-115.85\"/>\n<polygon fill=\"black\" stroke=\"black\" points=\"526,-118.96 536.58,-119.47 528.63,-112.47 526,-118.96\"/>\n</g>\n<!-- 4355553120+ -->\n<g id=\"node7\" class=\"node\">\n<title>4355553120+</title>\n<ellipse fill=\"none\" stroke=\"black\" cx=\"330.5\" cy=\"-176.25\" rx=\"27\" ry=\"18\"/>\n<text xml:space=\"preserve\" text-anchor=\"middle\" x=\"330.5\" y=\"-171.2\" font-family=\"Times,serif\" font-size=\"14.00\">+</text>\n</g>\n<!-- 4355553120+&#45;&gt;4355553120 -->\n<g id=\"edge6\" class=\"edge\">\n<title>4355553120+&#45;&gt;4355553120</title>\n<path fill=\"none\" stroke=\"black\" d=\"M357.85,-176.25C365.24,-176.25 373.6,-176.25 382.15,-176.25\"/>\n<polygon fill=\"black\" stroke=\"black\" points=\"381.91,-179.75 391.91,-176.25 381.91,-172.75 381.91,-179.75\"/>\n</g>\n<!-- 4354840704 -->\n<g id=\"node8\" class=\"node\">\n<title>4354840704</title>\n<polygon fill=\"none\" stroke=\"black\" points=\"196.75,-186.5 196.75,-260 267.5,-260 267.5,-186.5 196.75,-186.5\"/>\n<text xml:space=\"preserve\" text-anchor=\"middle\" x=\"232.12\" y=\"-242.7\" font-family=\"Times,serif\" font-size=\"14.00\">x1*w1</text>\n<polyline fill=\"none\" stroke=\"black\" points=\"196.75,-235.5 267.5,-235.5\"/>\n<text xml:space=\"preserve\" text-anchor=\"middle\" x=\"232.12\" y=\"-218.2\" font-family=\"Times,serif\" font-size=\"14.00\">Data: &#45;6.0</text>\n<polyline fill=\"none\" stroke=\"black\" points=\"196.75,-211 267.5,-211\"/>\n<text xml:space=\"preserve\" text-anchor=\"middle\" x=\"232.12\" y=\"-193.7\" font-family=\"Times,serif\" font-size=\"14.00\">Grad: 0</text>\n</g>\n<!-- 4354840704&#45;&gt;4355553120+ -->\n<g id=\"edge7\" class=\"edge\">\n<title>4354840704&#45;&gt;4355553120+</title>\n<path fill=\"none\" stroke=\"black\" d=\"M267.92,-206.28C277.63,-201.54 288.14,-196.42 297.67,-191.77\"/>\n<polygon fill=\"black\" stroke=\"black\" points=\"299.12,-194.96 306.57,-187.43 296.05,-188.67 299.12,-194.96\"/>\n</g>\n<!-- 4355551920 -->\n<g id=\"node9\" class=\"node\">\n<title>4355551920</title>\n<polygon fill=\"none\" stroke=\"black\" points=\"199,-93.5 199,-167 265.25,-167 265.25,-93.5 199,-93.5\"/>\n<text xml:space=\"preserve\" text-anchor=\"middle\" x=\"232.12\" y=\"-149.7\" font-family=\"Times,serif\" font-size=\"14.00\">x2*w2</text>\n<polyline fill=\"none\" stroke=\"black\" points=\"199,-142.5 265.25,-142.5\"/>\n<text xml:space=\"preserve\" text-anchor=\"middle\" x=\"232.12\" y=\"-125.2\" font-family=\"Times,serif\" font-size=\"14.00\">Data: 0.0</text>\n<polyline fill=\"none\" stroke=\"black\" points=\"199,-118 265.25,-118\"/>\n<text xml:space=\"preserve\" text-anchor=\"middle\" x=\"232.12\" y=\"-100.7\" font-family=\"Times,serif\" font-size=\"14.00\">Grad: 0</text>\n</g>\n<!-- 4355551920&#45;&gt;4355553120+ -->\n<g id=\"edge8\" class=\"edge\">\n<title>4355551920&#45;&gt;4355553120+</title>\n<path fill=\"none\" stroke=\"black\" d=\"M265.48,-145.7C275.87,-150.65 287.37,-156.14 297.72,-161.08\"/>\n<polygon fill=\"black\" stroke=\"black\" points=\"296.09,-164.18 306.63,-165.33 299.11,-157.87 296.09,-164.18\"/>\n</g>\n<!-- 4355551920* -->\n<g id=\"node10\" class=\"node\">\n<title>4355551920*</title>\n<ellipse fill=\"none\" stroke=\"black\" cx=\"133.75\" cy=\"-130.25\" rx=\"27\" ry=\"18\"/>\n<text xml:space=\"preserve\" text-anchor=\"middle\" x=\"133.75\" y=\"-125.2\" font-family=\"Times,serif\" font-size=\"14.00\">*</text>\n</g>\n<!-- 4355551920*&#45;&gt;4355551920 -->\n<g id=\"edge9\" class=\"edge\">\n<title>4355551920*&#45;&gt;4355551920</title>\n<path fill=\"none\" stroke=\"black\" d=\"M161.08,-130.25C169.15,-130.25 178.24,-130.25 187.14,-130.25\"/>\n<polygon fill=\"black\" stroke=\"black\" points=\"187.12,-133.75 197.12,-130.25 187.12,-126.75 187.12,-133.75\"/>\n</g>\n<!-- 4354840224 -->\n<g id=\"node11\" class=\"node\">\n<title>4354840224</title>\n<polygon fill=\"none\" stroke=\"black\" points=\"2.25,-93.5 2.25,-167 68.5,-167 68.5,-93.5 2.25,-93.5\"/>\n<text xml:space=\"preserve\" text-anchor=\"middle\" x=\"35.38\" y=\"-149.7\" font-family=\"Times,serif\" font-size=\"14.00\">x2</text>\n<polyline fill=\"none\" stroke=\"black\" points=\"2.25,-142.5 68.5,-142.5\"/>\n<text xml:space=\"preserve\" text-anchor=\"middle\" x=\"35.38\" y=\"-125.2\" font-family=\"Times,serif\" font-size=\"14.00\">Data: 0.0</text>\n<polyline fill=\"none\" stroke=\"black\" points=\"2.25,-118 68.5,-118\"/>\n<text xml:space=\"preserve\" text-anchor=\"middle\" x=\"35.38\" y=\"-100.7\" font-family=\"Times,serif\" font-size=\"14.00\">Grad: 0</text>\n</g>\n<!-- 4354840224&#45;&gt;4355551920* -->\n<g id=\"edge10\" class=\"edge\">\n<title>4354840224&#45;&gt;4355551920*</title>\n<path fill=\"none\" stroke=\"black\" d=\"M68.73,-130.25C77.16,-130.25 86.3,-130.25 94.98,-130.25\"/>\n<polygon fill=\"black\" stroke=\"black\" points=\"94.89,-133.75 104.89,-130.25 94.89,-126.75 94.89,-133.75\"/>\n</g>\n<!-- 4354841040 -->\n<g id=\"node12\" class=\"node\">\n<title>4354841040</title>\n<polygon fill=\"none\" stroke=\"black\" points=\"2.25,-0.5 2.25,-74 68.5,-74 68.5,-0.5 2.25,-0.5\"/>\n<text xml:space=\"preserve\" text-anchor=\"middle\" x=\"35.38\" y=\"-56.7\" font-family=\"Times,serif\" font-size=\"14.00\">w2</text>\n<polyline fill=\"none\" stroke=\"black\" points=\"2.25,-49.5 68.5,-49.5\"/>\n<text xml:space=\"preserve\" text-anchor=\"middle\" x=\"35.38\" y=\"-32.2\" font-family=\"Times,serif\" font-size=\"14.00\">Data: 1.0</text>\n<polyline fill=\"none\" stroke=\"black\" points=\"2.25,-25 68.5,-25\"/>\n<text xml:space=\"preserve\" text-anchor=\"middle\" x=\"35.38\" y=\"-7.7\" font-family=\"Times,serif\" font-size=\"14.00\">Grad: 0</text>\n</g>\n<!-- 4354841040&#45;&gt;4355551920* -->\n<g id=\"edge11\" class=\"edge\">\n<title>4354841040&#45;&gt;4355551920*</title>\n<path fill=\"none\" stroke=\"black\" d=\"M68.73,-68.48C82.15,-81.42 97.41,-96.15 109.67,-107.98\"/>\n<polygon fill=\"black\" stroke=\"black\" points=\"106.9,-110.16 116.52,-114.59 111.76,-105.13 106.9,-110.16\"/>\n</g>\n<!-- 4354840704* -->\n<g id=\"node13\" class=\"node\">\n<title>4354840704*</title>\n<ellipse fill=\"none\" stroke=\"black\" cx=\"133.75\" cy=\"-223.25\" rx=\"27\" ry=\"18\"/>\n<text xml:space=\"preserve\" text-anchor=\"middle\" x=\"133.75\" y=\"-218.2\" font-family=\"Times,serif\" font-size=\"14.00\">*</text>\n</g>\n<!-- 4354840704*&#45;&gt;4354840704 -->\n<g id=\"edge12\" class=\"edge\">\n<title>4354840704*&#45;&gt;4354840704</title>\n<path fill=\"none\" stroke=\"black\" d=\"M161.08,-223.25C168.51,-223.25 176.81,-223.25 185.03,-223.25\"/>\n<polygon fill=\"black\" stroke=\"black\" points=\"184.99,-226.75 194.99,-223.25 184.99,-219.75 184.99,-226.75\"/>\n</g>\n<!-- 4354841376 -->\n<g id=\"node14\" class=\"node\">\n<title>4354841376</title>\n<polygon fill=\"none\" stroke=\"black\" points=\"2.25,-279.5 2.25,-353 68.5,-353 68.5,-279.5 2.25,-279.5\"/>\n<text xml:space=\"preserve\" text-anchor=\"middle\" x=\"35.38\" y=\"-335.7\" font-family=\"Times,serif\" font-size=\"14.00\">x1</text>\n<polyline fill=\"none\" stroke=\"black\" points=\"2.25,-328.5 68.5,-328.5\"/>\n<text xml:space=\"preserve\" text-anchor=\"middle\" x=\"35.38\" y=\"-311.2\" font-family=\"Times,serif\" font-size=\"14.00\">Data: 2.0</text>\n<polyline fill=\"none\" stroke=\"black\" points=\"2.25,-304 68.5,-304\"/>\n<text xml:space=\"preserve\" text-anchor=\"middle\" x=\"35.38\" y=\"-286.7\" font-family=\"Times,serif\" font-size=\"14.00\">Grad: 0</text>\n</g>\n<!-- 4354841376&#45;&gt;4354840704* -->\n<g id=\"edge13\" class=\"edge\">\n<title>4354841376&#45;&gt;4354840704*</title>\n<path fill=\"none\" stroke=\"black\" d=\"M68.73,-285.02C82.15,-272.08 97.41,-257.35 109.67,-245.52\"/>\n<polygon fill=\"black\" stroke=\"black\" points=\"111.76,-248.37 116.52,-238.91 106.9,-243.34 111.76,-248.37\"/>\n</g>\n<!-- 4354838832 -->\n<g id=\"node15\" class=\"node\">\n<title>4354838832</title>\n<polygon fill=\"none\" stroke=\"black\" points=\"0,-186.5 0,-260 70.75,-260 70.75,-186.5 0,-186.5\"/>\n<text xml:space=\"preserve\" text-anchor=\"middle\" x=\"35.38\" y=\"-242.7\" font-family=\"Times,serif\" font-size=\"14.00\">w1</text>\n<polyline fill=\"none\" stroke=\"black\" points=\"0,-235.5 70.75,-235.5\"/>\n<text xml:space=\"preserve\" text-anchor=\"middle\" x=\"35.38\" y=\"-218.2\" font-family=\"Times,serif\" font-size=\"14.00\">Data: &#45;3.0</text>\n<polyline fill=\"none\" stroke=\"black\" points=\"0,-211 70.75,-211\"/>\n<text xml:space=\"preserve\" text-anchor=\"middle\" x=\"35.38\" y=\"-193.7\" font-family=\"Times,serif\" font-size=\"14.00\">Grad: 0</text>\n</g>\n<!-- 4354838832&#45;&gt;4354840704* -->\n<g id=\"edge14\" class=\"edge\">\n<title>4354838832&#45;&gt;4354840704*</title>\n<path fill=\"none\" stroke=\"black\" d=\"M71.17,-223.25C78.9,-223.25 87.14,-223.25 94.98,-223.25\"/>\n<polygon fill=\"black\" stroke=\"black\" points=\"94.97,-226.75 104.97,-223.25 94.97,-219.75 94.97,-226.75\"/>\n</g>\n</g>\n</svg>\n",
      "text/plain": [
       "<graphviz.graphs.Digraph at 0x103981e20>"
      ]
     },
     "execution_count": 382,
     "metadata": {},
     "output_type": "execute_result"
    }
   ],
   "execution_count": 382
  },
  {
   "metadata": {
    "ExecuteTime": {
     "end_time": "2025-09-06T13:25:27.936660Z",
     "start_time": "2025-09-06T13:25:27.853802Z"
    }
   },
   "cell_type": "code",
   "source": [
    "o.grad = 1\n",
    "o.backward()\n",
    "# o._backward()\n",
    "# n._backward()\n",
    "# x1w1_x2w2._backward()\n",
    "# x2w2._backward()\n",
    "# x1w1._backward()\n",
    "draw_graph(o)"
   ],
   "id": "5a5e83e1fa4e4b2c",
   "outputs": [
    {
     "data": {
      "image/svg+xml": "<?xml version=\"1.0\" encoding=\"UTF-8\" standalone=\"no\"?>\n<!DOCTYPE svg PUBLIC \"-//W3C//DTD SVG 1.1//EN\"\n \"http://www.w3.org/Graphics/SVG/1.1/DTD/svg11.dtd\">\n<!-- Generated by graphviz version 13.1.2 (20250808.2320)\n -->\n<!-- Pages: 1 -->\n<svg width=\"1360pt\" height=\"362pt\"\n viewBox=\"0.00 0.00 1360.00 362.00\" xmlns=\"http://www.w3.org/2000/svg\" xmlns:xlink=\"http://www.w3.org/1999/xlink\">\n<g id=\"graph0\" class=\"graph\" transform=\"scale(1 1) rotate(0) translate(4 357.5)\">\n<polygon fill=\"white\" stroke=\"none\" points=\"-4,4 -4,-357.5 1356,-357.5 1356,4 -4,4\"/>\n<!-- 4355552016 -->\n<g id=\"node1\" class=\"node\">\n<title>4355552016</title>\n<polygon fill=\"none\" stroke=\"black\" points=\"1184.5,-92.5 1184.5,-166 1352,-166 1352,-92.5 1184.5,-92.5\"/>\n<text xml:space=\"preserve\" text-anchor=\"middle\" x=\"1268.25\" y=\"-148.7\" font-family=\"Times,serif\" font-size=\"14.00\">o</text>\n<polyline fill=\"none\" stroke=\"black\" points=\"1184.5,-141.5 1352,-141.5\"/>\n<text xml:space=\"preserve\" text-anchor=\"middle\" x=\"1268.25\" y=\"-124.2\" font-family=\"Times,serif\" font-size=\"14.00\">Data: 0.7071199874301227</text>\n<polyline fill=\"none\" stroke=\"black\" points=\"1184.5,-117 1352,-117\"/>\n<text xml:space=\"preserve\" text-anchor=\"middle\" x=\"1268.25\" y=\"-99.7\" font-family=\"Times,serif\" font-size=\"14.00\">Grad: 1</text>\n</g>\n<!-- 4355552016tan -->\n<g id=\"node2\" class=\"node\">\n<title>4355552016tan</title>\n<ellipse fill=\"none\" stroke=\"black\" cx=\"1121.5\" cy=\"-129.25\" rx=\"27\" ry=\"18\"/>\n<text xml:space=\"preserve\" text-anchor=\"middle\" x=\"1121.5\" y=\"-124.2\" font-family=\"Times,serif\" font-size=\"14.00\">tan</text>\n</g>\n<!-- 4355552016tan&#45;&gt;4355552016 -->\n<g id=\"edge1\" class=\"edge\">\n<title>4355552016tan&#45;&gt;4355552016</title>\n<path fill=\"none\" stroke=\"black\" d=\"M1148.71,-129.25C1155.93,-129.25 1164.2,-129.25 1172.94,-129.25\"/>\n<polygon fill=\"black\" stroke=\"black\" points=\"1172.71,-132.75 1182.71,-129.25 1172.71,-125.75 1172.71,-132.75\"/>\n</g>\n<!-- 4355552928 -->\n<g id=\"node3\" class=\"node\">\n<title>4355552928</title>\n<polygon fill=\"none\" stroke=\"black\" points=\"889.5,-92.5 889.5,-166 1058.5,-166 1058.5,-92.5 889.5,-92.5\"/>\n<text xml:space=\"preserve\" text-anchor=\"middle\" x=\"974\" y=\"-148.7\" font-family=\"Times,serif\" font-size=\"14.00\">x1w1*x2w2 + b</text>\n<polyline fill=\"none\" stroke=\"black\" points=\"889.5,-141.5 1058.5,-141.5\"/>\n<text xml:space=\"preserve\" text-anchor=\"middle\" x=\"974\" y=\"-124.2\" font-family=\"Times,serif\" font-size=\"14.00\">Data: 0.8814000000000002</text>\n<polyline fill=\"none\" stroke=\"black\" points=\"889.5,-117 1058.5,-117\"/>\n<text xml:space=\"preserve\" text-anchor=\"middle\" x=\"974\" y=\"-99.7\" font-family=\"Times,serif\" font-size=\"14.00\">Grad: 0.4999813233768231</text>\n</g>\n<!-- 4355552928&#45;&gt;4355552016tan -->\n<g id=\"edge2\" class=\"edge\">\n<title>4355552928&#45;&gt;4355552016tan</title>\n<path fill=\"none\" stroke=\"black\" d=\"M1058.79,-129.25C1067.07,-129.25 1075.15,-129.25 1082.59,-129.25\"/>\n<polygon fill=\"black\" stroke=\"black\" points=\"1082.55,-132.75 1092.55,-129.25 1082.55,-125.75 1082.55,-132.75\"/>\n</g>\n<!-- 4355552928+ -->\n<g id=\"node4\" class=\"node\">\n<title>4355552928+</title>\n<ellipse fill=\"none\" stroke=\"black\" cx=\"826.5\" cy=\"-129.25\" rx=\"27\" ry=\"18\"/>\n<text xml:space=\"preserve\" text-anchor=\"middle\" x=\"826.5\" y=\"-124.2\" font-family=\"Times,serif\" font-size=\"14.00\">+</text>\n</g>\n<!-- 4355552928+&#45;&gt;4355552928 -->\n<g id=\"edge3\" class=\"edge\">\n<title>4355552928+&#45;&gt;4355552928</title>\n<path fill=\"none\" stroke=\"black\" d=\"M853.85,-129.25C861.05,-129.25 869.28,-129.25 877.99,-129.25\"/>\n<polygon fill=\"black\" stroke=\"black\" points=\"877.72,-132.75 887.72,-129.25 877.72,-125.75 877.72,-132.75\"/>\n</g>\n<!-- 4355553120 -->\n<g id=\"node5\" class=\"node\">\n<title>4355553120</title>\n<polygon fill=\"none\" stroke=\"black\" points=\"594.5,-139.5 594.5,-213 763.5,-213 763.5,-139.5 594.5,-139.5\"/>\n<text xml:space=\"preserve\" text-anchor=\"middle\" x=\"679\" y=\"-195.7\" font-family=\"Times,serif\" font-size=\"14.00\">x1*w1 + x2*w2</text>\n<polyline fill=\"none\" stroke=\"black\" points=\"594.5,-188.5 763.5,-188.5\"/>\n<text xml:space=\"preserve\" text-anchor=\"middle\" x=\"679\" y=\"-171.2\" font-family=\"Times,serif\" font-size=\"14.00\">Data: &#45;6.0</text>\n<polyline fill=\"none\" stroke=\"black\" points=\"594.5,-164 763.5,-164\"/>\n<text xml:space=\"preserve\" text-anchor=\"middle\" x=\"679\" y=\"-146.7\" font-family=\"Times,serif\" font-size=\"14.00\">Grad: 0.4999813233768231</text>\n</g>\n<!-- 4355553120&#45;&gt;4355552928+ -->\n<g id=\"edge4\" class=\"edge\">\n<title>4355553120&#45;&gt;4355552928+</title>\n<path fill=\"none\" stroke=\"black\" d=\"M763.79,-149.18C773.35,-146.1 782.64,-143.09 791,-140.39\"/>\n<polygon fill=\"black\" stroke=\"black\" points=\"791.86,-143.79 800.3,-137.39 789.71,-137.13 791.86,-143.79\"/>\n</g>\n<!-- 4354841664 -->\n<g id=\"node6\" class=\"node\">\n<title>4354841664</title>\n<polygon fill=\"none\" stroke=\"black\" points=\"594.5,-46.5 594.5,-120 763.5,-120 763.5,-46.5 594.5,-46.5\"/>\n<text xml:space=\"preserve\" text-anchor=\"middle\" x=\"679\" y=\"-102.7\" font-family=\"Times,serif\" font-size=\"14.00\">b</text>\n<polyline fill=\"none\" stroke=\"black\" points=\"594.5,-95.5 763.5,-95.5\"/>\n<text xml:space=\"preserve\" text-anchor=\"middle\" x=\"679\" y=\"-78.2\" font-family=\"Times,serif\" font-size=\"14.00\">Data: 6.8814</text>\n<polyline fill=\"none\" stroke=\"black\" points=\"594.5,-71 763.5,-71\"/>\n<text xml:space=\"preserve\" text-anchor=\"middle\" x=\"679\" y=\"-53.7\" font-family=\"Times,serif\" font-size=\"14.00\">Grad: 0.4999813233768231</text>\n</g>\n<!-- 4354841664&#45;&gt;4355552928+ -->\n<g id=\"edge5\" class=\"edge\">\n<title>4354841664&#45;&gt;4355552928+</title>\n<path fill=\"none\" stroke=\"black\" d=\"M763.79,-109.74C773.16,-112.7 782.27,-115.58 790.49,-118.18\"/>\n<polygon fill=\"black\" stroke=\"black\" points=\"789.42,-121.51 800.01,-121.19 791.53,-114.84 789.42,-121.51\"/>\n</g>\n<!-- 4355553120+ -->\n<g id=\"node7\" class=\"node\">\n<title>4355553120+</title>\n<ellipse fill=\"none\" stroke=\"black\" cx=\"531.5\" cy=\"-176.25\" rx=\"27\" ry=\"18\"/>\n<text xml:space=\"preserve\" text-anchor=\"middle\" x=\"531.5\" y=\"-171.2\" font-family=\"Times,serif\" font-size=\"14.00\">+</text>\n</g>\n<!-- 4355553120+&#45;&gt;4355553120 -->\n<g id=\"edge6\" class=\"edge\">\n<title>4355553120+&#45;&gt;4355553120</title>\n<path fill=\"none\" stroke=\"black\" d=\"M558.85,-176.25C566.05,-176.25 574.28,-176.25 582.99,-176.25\"/>\n<polygon fill=\"black\" stroke=\"black\" points=\"582.72,-179.75 592.72,-176.25 582.72,-172.75 582.72,-179.75\"/>\n</g>\n<!-- 4354840704 -->\n<g id=\"node8\" class=\"node\">\n<title>4354840704</title>\n<polygon fill=\"none\" stroke=\"black\" points=\"299.5,-186.5 299.5,-260 468.5,-260 468.5,-186.5 299.5,-186.5\"/>\n<text xml:space=\"preserve\" text-anchor=\"middle\" x=\"384\" y=\"-242.7\" font-family=\"Times,serif\" font-size=\"14.00\">x1*w1</text>\n<polyline fill=\"none\" stroke=\"black\" points=\"299.5,-235.5 468.5,-235.5\"/>\n<text xml:space=\"preserve\" text-anchor=\"middle\" x=\"384\" y=\"-218.2\" font-family=\"Times,serif\" font-size=\"14.00\">Data: &#45;6.0</text>\n<polyline fill=\"none\" stroke=\"black\" points=\"299.5,-211 468.5,-211\"/>\n<text xml:space=\"preserve\" text-anchor=\"middle\" x=\"384\" y=\"-193.7\" font-family=\"Times,serif\" font-size=\"14.00\">Grad: 0.4999813233768231</text>\n</g>\n<!-- 4354840704&#45;&gt;4355553120+ -->\n<g id=\"edge7\" class=\"edge\">\n<title>4354840704&#45;&gt;4355553120+</title>\n<path fill=\"none\" stroke=\"black\" d=\"M468.79,-196.18C478.35,-193.1 487.64,-190.09 496,-187.39\"/>\n<polygon fill=\"black\" stroke=\"black\" points=\"496.86,-190.79 505.3,-184.39 494.71,-184.13 496.86,-190.79\"/>\n</g>\n<!-- 4355551920 -->\n<g id=\"node9\" class=\"node\">\n<title>4355551920</title>\n<polygon fill=\"none\" stroke=\"black\" points=\"299.5,-93.5 299.5,-167 468.5,-167 468.5,-93.5 299.5,-93.5\"/>\n<text xml:space=\"preserve\" text-anchor=\"middle\" x=\"384\" y=\"-149.7\" font-family=\"Times,serif\" font-size=\"14.00\">x2*w2</text>\n<polyline fill=\"none\" stroke=\"black\" points=\"299.5,-142.5 468.5,-142.5\"/>\n<text xml:space=\"preserve\" text-anchor=\"middle\" x=\"384\" y=\"-125.2\" font-family=\"Times,serif\" font-size=\"14.00\">Data: 0.0</text>\n<polyline fill=\"none\" stroke=\"black\" points=\"299.5,-118 468.5,-118\"/>\n<text xml:space=\"preserve\" text-anchor=\"middle\" x=\"384\" y=\"-100.7\" font-family=\"Times,serif\" font-size=\"14.00\">Grad: 0.4999813233768231</text>\n</g>\n<!-- 4355551920&#45;&gt;4355553120+ -->\n<g id=\"edge8\" class=\"edge\">\n<title>4355551920&#45;&gt;4355553120+</title>\n<path fill=\"none\" stroke=\"black\" d=\"M468.79,-156.74C478.16,-159.7 487.27,-162.58 495.49,-165.18\"/>\n<polygon fill=\"black\" stroke=\"black\" points=\"494.42,-168.51 505.01,-168.19 496.53,-161.84 494.42,-168.51\"/>\n</g>\n<!-- 4355551920* -->\n<g id=\"node10\" class=\"node\">\n<title>4355551920*</title>\n<ellipse fill=\"none\" stroke=\"black\" cx=\"236.5\" cy=\"-130.25\" rx=\"27\" ry=\"18\"/>\n<text xml:space=\"preserve\" text-anchor=\"middle\" x=\"236.5\" y=\"-125.2\" font-family=\"Times,serif\" font-size=\"14.00\">*</text>\n</g>\n<!-- 4355551920*&#45;&gt;4355551920 -->\n<g id=\"edge9\" class=\"edge\">\n<title>4355551920*&#45;&gt;4355551920</title>\n<path fill=\"none\" stroke=\"black\" d=\"M263.85,-130.25C271.05,-130.25 279.28,-130.25 287.99,-130.25\"/>\n<polygon fill=\"black\" stroke=\"black\" points=\"287.72,-133.75 297.72,-130.25 287.72,-126.75 287.72,-133.75\"/>\n</g>\n<!-- 4354840224 -->\n<g id=\"node11\" class=\"node\">\n<title>4354840224</title>\n<polygon fill=\"none\" stroke=\"black\" points=\"2.25,-93.5 2.25,-167 171.25,-167 171.25,-93.5 2.25,-93.5\"/>\n<text xml:space=\"preserve\" text-anchor=\"middle\" x=\"86.75\" y=\"-149.7\" font-family=\"Times,serif\" font-size=\"14.00\">x2</text>\n<polyline fill=\"none\" stroke=\"black\" points=\"2.25,-142.5 171.25,-142.5\"/>\n<text xml:space=\"preserve\" text-anchor=\"middle\" x=\"86.75\" y=\"-125.2\" font-family=\"Times,serif\" font-size=\"14.00\">Data: 0.0</text>\n<polyline fill=\"none\" stroke=\"black\" points=\"2.25,-118 171.25,-118\"/>\n<text xml:space=\"preserve\" text-anchor=\"middle\" x=\"86.75\" y=\"-100.7\" font-family=\"Times,serif\" font-size=\"14.00\">Grad: 0.4999813233768231</text>\n</g>\n<!-- 4354840224&#45;&gt;4355551920* -->\n<g id=\"edge10\" class=\"edge\">\n<title>4354840224&#45;&gt;4355551920*</title>\n<path fill=\"none\" stroke=\"black\" d=\"M171.55,-130.25C180.74,-130.25 189.72,-130.25 197.91,-130.25\"/>\n<polygon fill=\"black\" stroke=\"black\" points=\"197.76,-133.75 207.76,-130.25 197.76,-126.75 197.76,-133.75\"/>\n</g>\n<!-- 4354841040 -->\n<g id=\"node12\" class=\"node\">\n<title>4354841040</title>\n<polygon fill=\"none\" stroke=\"black\" points=\"52.88,-0.5 52.88,-74 120.62,-74 120.62,-0.5 52.88,-0.5\"/>\n<text xml:space=\"preserve\" text-anchor=\"middle\" x=\"86.75\" y=\"-56.7\" font-family=\"Times,serif\" font-size=\"14.00\">w2</text>\n<polyline fill=\"none\" stroke=\"black\" points=\"52.88,-49.5 120.62,-49.5\"/>\n<text xml:space=\"preserve\" text-anchor=\"middle\" x=\"86.75\" y=\"-32.2\" font-family=\"Times,serif\" font-size=\"14.00\">Data: 1.0</text>\n<polyline fill=\"none\" stroke=\"black\" points=\"52.88,-25 120.62,-25\"/>\n<text xml:space=\"preserve\" text-anchor=\"middle\" x=\"86.75\" y=\"-7.7\" font-family=\"Times,serif\" font-size=\"14.00\">Grad: 0.0</text>\n</g>\n<!-- 4354841040&#45;&gt;4355551920* -->\n<g id=\"edge11\" class=\"edge\">\n<title>4354841040&#45;&gt;4355551920*</title>\n<path fill=\"none\" stroke=\"black\" d=\"M120.94,-54.08C137.1,-62.61 156.63,-73.44 173.5,-84.25 185.63,-92.02 198.51,-101.38 209.37,-109.62\"/>\n<polygon fill=\"black\" stroke=\"black\" points=\"207.06,-112.26 217.12,-115.58 211.32,-106.71 207.06,-112.26\"/>\n</g>\n<!-- 4354840704* -->\n<g id=\"node13\" class=\"node\">\n<title>4354840704*</title>\n<ellipse fill=\"none\" stroke=\"black\" cx=\"236.5\" cy=\"-223.25\" rx=\"27\" ry=\"18\"/>\n<text xml:space=\"preserve\" text-anchor=\"middle\" x=\"236.5\" y=\"-218.2\" font-family=\"Times,serif\" font-size=\"14.00\">*</text>\n</g>\n<!-- 4354840704*&#45;&gt;4354840704 -->\n<g id=\"edge12\" class=\"edge\">\n<title>4354840704*&#45;&gt;4354840704</title>\n<path fill=\"none\" stroke=\"black\" d=\"M263.85,-223.25C271.05,-223.25 279.28,-223.25 287.99,-223.25\"/>\n<polygon fill=\"black\" stroke=\"black\" points=\"287.72,-226.75 297.72,-223.25 287.72,-219.75 287.72,-226.75\"/>\n</g>\n<!-- 4354841376 -->\n<g id=\"node14\" class=\"node\">\n<title>4354841376</title>\n<polygon fill=\"none\" stroke=\"black\" points=\"0,-279.5 0,-353 173.5,-353 173.5,-279.5 0,-279.5\"/>\n<text xml:space=\"preserve\" text-anchor=\"middle\" x=\"86.75\" y=\"-335.7\" font-family=\"Times,serif\" font-size=\"14.00\">x1</text>\n<polyline fill=\"none\" stroke=\"black\" points=\"0,-328.5 173.5,-328.5\"/>\n<text xml:space=\"preserve\" text-anchor=\"middle\" x=\"86.75\" y=\"-311.2\" font-family=\"Times,serif\" font-size=\"14.00\">Data: 2.0</text>\n<polyline fill=\"none\" stroke=\"black\" points=\"0,-304 173.5,-304\"/>\n<text xml:space=\"preserve\" text-anchor=\"middle\" x=\"86.75\" y=\"-286.7\" font-family=\"Times,serif\" font-size=\"14.00\">Grad: &#45;1.4999439701304693</text>\n</g>\n<!-- 4354841376&#45;&gt;4354840704* -->\n<g id=\"edge13\" class=\"edge\">\n<title>4354841376&#45;&gt;4354840704*</title>\n<path fill=\"none\" stroke=\"black\" d=\"M157.49,-279.08C162.96,-275.85 168.35,-272.55 173.5,-269.25 185.63,-261.48 198.51,-252.12 209.37,-243.88\"/>\n<polygon fill=\"black\" stroke=\"black\" points=\"211.32,-246.79 217.12,-237.92 207.06,-241.24 211.32,-246.79\"/>\n</g>\n<!-- 4354838832 -->\n<g id=\"node15\" class=\"node\">\n<title>4354838832</title>\n<polygon fill=\"none\" stroke=\"black\" points=\"2.25,-186.5 2.25,-260 171.25,-260 171.25,-186.5 2.25,-186.5\"/>\n<text xml:space=\"preserve\" text-anchor=\"middle\" x=\"86.75\" y=\"-242.7\" font-family=\"Times,serif\" font-size=\"14.00\">w1</text>\n<polyline fill=\"none\" stroke=\"black\" points=\"2.25,-235.5 171.25,-235.5\"/>\n<text xml:space=\"preserve\" text-anchor=\"middle\" x=\"86.75\" y=\"-218.2\" font-family=\"Times,serif\" font-size=\"14.00\">Data: &#45;3.0</text>\n<polyline fill=\"none\" stroke=\"black\" points=\"2.25,-211 171.25,-211\"/>\n<text xml:space=\"preserve\" text-anchor=\"middle\" x=\"86.75\" y=\"-193.7\" font-family=\"Times,serif\" font-size=\"14.00\">Grad: 0.9999626467536462</text>\n</g>\n<!-- 4354838832&#45;&gt;4354840704* -->\n<g id=\"edge14\" class=\"edge\">\n<title>4354838832&#45;&gt;4354840704*</title>\n<path fill=\"none\" stroke=\"black\" d=\"M171.55,-223.25C180.74,-223.25 189.72,-223.25 197.91,-223.25\"/>\n<polygon fill=\"black\" stroke=\"black\" points=\"197.76,-226.75 207.76,-223.25 197.76,-219.75 197.76,-226.75\"/>\n</g>\n</g>\n</svg>\n",
      "text/plain": [
       "<graphviz.graphs.Digraph at 0x10377e940>"
      ]
     },
     "execution_count": 383,
     "metadata": {},
     "output_type": "execute_result"
    }
   ],
   "execution_count": 383
  },
  {
   "metadata": {
    "ExecuteTime": {
     "end_time": "2025-09-06T13:25:28.019554Z",
     "start_time": "2025-09-06T13:25:27.944009Z"
    }
   },
   "cell_type": "code",
   "source": [
    "a = Value(2.0, label='a')\n",
    "b = 3*a; b.label='b'\n",
    "c = a**b; c.label='c'\n",
    "d = c.exp(); d.label='d'\n",
    "draw_graph(d)"
   ],
   "id": "7f6a88d52f46a6b7",
   "outputs": [
    {
     "data": {
      "image/svg+xml": "<?xml version=\"1.0\" encoding=\"UTF-8\" standalone=\"no\"?>\n<!DOCTYPE svg PUBLIC \"-//W3C//DTD SVG 1.1//EN\"\n \"http://www.w3.org/Graphics/SVG/1.1/DTD/svg11.dtd\">\n<!-- Generated by graphviz version 13.1.2 (20250808.2320)\n -->\n<!-- Pages: 1 -->\n<svg width=\"780pt\" height=\"176pt\"\n viewBox=\"0.00 0.00 780.00 176.00\" xmlns=\"http://www.w3.org/2000/svg\" xmlns:xlink=\"http://www.w3.org/1999/xlink\">\n<g id=\"graph0\" class=\"graph\" transform=\"scale(1 1) rotate(0) translate(4 171.5)\">\n<polygon fill=\"white\" stroke=\"none\" points=\"-4,4 -4,-171.5 776,-171.5 776,4 -4,4\"/>\n<!-- 4354631904 -->\n<g id=\"node1\" class=\"node\">\n<title>4354631904</title>\n<polygon fill=\"none\" stroke=\"black\" points=\"583.5,-60.5 583.5,-134 772,-134 772,-60.5 583.5,-60.5\"/>\n<text xml:space=\"preserve\" text-anchor=\"middle\" x=\"677.75\" y=\"-116.7\" font-family=\"Times,serif\" font-size=\"14.00\">d</text>\n<polyline fill=\"none\" stroke=\"black\" points=\"583.5,-109.5 772,-109.5\"/>\n<text xml:space=\"preserve\" text-anchor=\"middle\" x=\"677.75\" y=\"-92.2\" font-family=\"Times,serif\" font-size=\"14.00\">Data: 6.235149080811617e+27</text>\n<polyline fill=\"none\" stroke=\"black\" points=\"583.5,-85 772,-85\"/>\n<text xml:space=\"preserve\" text-anchor=\"middle\" x=\"677.75\" y=\"-67.7\" font-family=\"Times,serif\" font-size=\"14.00\">Grad: 0</text>\n</g>\n<!-- 4354631904exp -->\n<g id=\"node2\" class=\"node\">\n<title>4354631904exp</title>\n<ellipse fill=\"none\" stroke=\"black\" cx=\"520.5\" cy=\"-97.25\" rx=\"27\" ry=\"18\"/>\n<text xml:space=\"preserve\" text-anchor=\"middle\" x=\"520.5\" y=\"-92.2\" font-family=\"Times,serif\" font-size=\"14.00\">exp</text>\n</g>\n<!-- 4354631904exp&#45;&gt;4354631904 -->\n<g id=\"edge1\" class=\"edge\">\n<title>4354631904exp&#45;&gt;4354631904</title>\n<path fill=\"none\" stroke=\"black\" d=\"M547.84,-97.25C554.95,-97.25 563.11,-97.25 571.79,-97.25\"/>\n<polygon fill=\"black\" stroke=\"black\" points=\"571.51,-100.75 581.51,-97.25 571.51,-93.75 571.51,-100.75\"/>\n</g>\n<!-- 4351553696 -->\n<g id=\"node3\" class=\"node\">\n<title>4351553696</title>\n<polygon fill=\"none\" stroke=\"black\" points=\"384.5,-60.5 384.5,-134 457.5,-134 457.5,-60.5 384.5,-60.5\"/>\n<text xml:space=\"preserve\" text-anchor=\"middle\" x=\"421\" y=\"-116.7\" font-family=\"Times,serif\" font-size=\"14.00\">c</text>\n<polyline fill=\"none\" stroke=\"black\" points=\"384.5,-109.5 457.5,-109.5\"/>\n<text xml:space=\"preserve\" text-anchor=\"middle\" x=\"421\" y=\"-92.2\" font-family=\"Times,serif\" font-size=\"14.00\">Data: 64.0</text>\n<polyline fill=\"none\" stroke=\"black\" points=\"384.5,-85 457.5,-85\"/>\n<text xml:space=\"preserve\" text-anchor=\"middle\" x=\"421\" y=\"-67.7\" font-family=\"Times,serif\" font-size=\"14.00\">Grad: 0</text>\n</g>\n<!-- 4351553696&#45;&gt;4354631904exp -->\n<g id=\"edge2\" class=\"edge\">\n<title>4351553696&#45;&gt;4354631904exp</title>\n<path fill=\"none\" stroke=\"black\" d=\"M457.75,-97.25C465.64,-97.25 474.02,-97.25 481.97,-97.25\"/>\n<polygon fill=\"black\" stroke=\"black\" points=\"481.71,-100.75 491.71,-97.25 481.71,-93.75 481.71,-100.75\"/>\n</g>\n<!-- 4351553696** -->\n<g id=\"node4\" class=\"node\">\n<title>4351553696**</title>\n<ellipse fill=\"none\" stroke=\"black\" cx=\"321.5\" cy=\"-97.25\" rx=\"27\" ry=\"18\"/>\n<text xml:space=\"preserve\" text-anchor=\"middle\" x=\"321.5\" y=\"-92.2\" font-family=\"Times,serif\" font-size=\"14.00\">**</text>\n</g>\n<!-- 4351553696**&#45;&gt;4351553696 -->\n<g id=\"edge3\" class=\"edge\">\n<title>4351553696**&#45;&gt;4351553696</title>\n<path fill=\"none\" stroke=\"black\" d=\"M348.88,-97.25C356.24,-97.25 364.47,-97.25 372.65,-97.25\"/>\n<polygon fill=\"black\" stroke=\"black\" points=\"372.56,-100.75 382.56,-97.25 372.56,-93.75 372.56,-100.75\"/>\n</g>\n<!-- 4354840944 -->\n<g id=\"node5\" class=\"node\">\n<title>4354840944</title>\n<polygon fill=\"none\" stroke=\"black\" points=\"0,-93.5 0,-167 66.25,-167 66.25,-93.5 0,-93.5\"/>\n<text xml:space=\"preserve\" text-anchor=\"middle\" x=\"33.12\" y=\"-149.7\" font-family=\"Times,serif\" font-size=\"14.00\">a</text>\n<polyline fill=\"none\" stroke=\"black\" points=\"0,-142.5 66.25,-142.5\"/>\n<text xml:space=\"preserve\" text-anchor=\"middle\" x=\"33.12\" y=\"-125.2\" font-family=\"Times,serif\" font-size=\"14.00\">Data: 2.0</text>\n<polyline fill=\"none\" stroke=\"black\" points=\"0,-118 66.25,-118\"/>\n<text xml:space=\"preserve\" text-anchor=\"middle\" x=\"33.12\" y=\"-100.7\" font-family=\"Times,serif\" font-size=\"14.00\">Grad: 0</text>\n</g>\n<!-- 4354840944&#45;&gt;4351553696** -->\n<g id=\"edge4\" class=\"edge\">\n<title>4354840944&#45;&gt;4351553696**</title>\n<path fill=\"none\" stroke=\"black\" d=\"M66.62,-128.9C110.41,-126.77 190.7,-121.73 258.5,-111.25 267.05,-109.93 276.17,-108.11 284.72,-106.21\"/>\n<polygon fill=\"black\" stroke=\"black\" points=\"285.48,-109.63 294.44,-103.96 283.9,-102.81 285.48,-109.63\"/>\n</g>\n<!-- 4353158400* -->\n<g id=\"node7\" class=\"node\">\n<title>4353158400*</title>\n<ellipse fill=\"none\" stroke=\"black\" cx=\"129.25\" cy=\"-65.25\" rx=\"27\" ry=\"18\"/>\n<text xml:space=\"preserve\" text-anchor=\"middle\" x=\"129.25\" y=\"-60.2\" font-family=\"Times,serif\" font-size=\"14.00\">*</text>\n</g>\n<!-- 4354840944&#45;&gt;4353158400* -->\n<g id=\"edge7\" class=\"edge\">\n<title>4354840944&#45;&gt;4353158400*</title>\n<path fill=\"none\" stroke=\"black\" d=\"M66.52,-107.88C77.59,-100.23 89.87,-91.75 100.54,-84.38\"/>\n<polygon fill=\"black\" stroke=\"black\" points=\"102.32,-87.41 108.56,-78.85 98.35,-81.65 102.32,-87.41\"/>\n</g>\n<!-- 4353158400 -->\n<g id=\"node6\" class=\"node\">\n<title>4353158400</title>\n<polygon fill=\"none\" stroke=\"black\" points=\"192.25,-28.5 192.25,-102 258.5,-102 258.5,-28.5 192.25,-28.5\"/>\n<text xml:space=\"preserve\" text-anchor=\"middle\" x=\"225.38\" y=\"-84.7\" font-family=\"Times,serif\" font-size=\"14.00\">b</text>\n<polyline fill=\"none\" stroke=\"black\" points=\"192.25,-77.5 258.5,-77.5\"/>\n<text xml:space=\"preserve\" text-anchor=\"middle\" x=\"225.38\" y=\"-60.2\" font-family=\"Times,serif\" font-size=\"14.00\">Data: 6.0</text>\n<polyline fill=\"none\" stroke=\"black\" points=\"192.25,-53 258.5,-53\"/>\n<text xml:space=\"preserve\" text-anchor=\"middle\" x=\"225.38\" y=\"-35.7\" font-family=\"Times,serif\" font-size=\"14.00\">Grad: 0</text>\n</g>\n<!-- 4353158400&#45;&gt;4351553696** -->\n<g id=\"edge5\" class=\"edge\">\n<title>4353158400&#45;&gt;4351553696**</title>\n<path fill=\"none\" stroke=\"black\" d=\"M258.77,-76.26C267.59,-79.26 277.18,-82.52 286.11,-85.56\"/>\n<polygon fill=\"black\" stroke=\"black\" points=\"284.94,-88.86 295.53,-88.76 287.19,-82.23 284.94,-88.86\"/>\n</g>\n<!-- 4353158400*&#45;&gt;4353158400 -->\n<g id=\"edge6\" class=\"edge\">\n<title>4353158400*&#45;&gt;4353158400</title>\n<path fill=\"none\" stroke=\"black\" d=\"M156.72,-65.25C164.19,-65.25 172.51,-65.25 180.7,-65.25\"/>\n<polygon fill=\"black\" stroke=\"black\" points=\"180.57,-68.75 190.57,-65.25 180.57,-61.75 180.57,-68.75\"/>\n</g>\n<!-- 4353158448 -->\n<g id=\"node8\" class=\"node\">\n<title>4353158448</title>\n<polygon fill=\"none\" stroke=\"black\" points=\"4.5,-0.5 4.5,-74 61.75,-74 61.75,-0.5 4.5,-0.5\"/>\n<text xml:space=\"preserve\" text-anchor=\"middle\" x=\"33.12\" y=\"-56.7\" font-family=\"Times,serif\" font-size=\"14.00\"> </text>\n<polyline fill=\"none\" stroke=\"black\" points=\"4.5,-49.5 61.75,-49.5\"/>\n<text xml:space=\"preserve\" text-anchor=\"middle\" x=\"33.12\" y=\"-32.2\" font-family=\"Times,serif\" font-size=\"14.00\">Data: 3</text>\n<polyline fill=\"none\" stroke=\"black\" points=\"4.5,-25 61.75,-25\"/>\n<text xml:space=\"preserve\" text-anchor=\"middle\" x=\"33.12\" y=\"-7.7\" font-family=\"Times,serif\" font-size=\"14.00\">Grad: 0</text>\n</g>\n<!-- 4353158448&#45;&gt;4353158400* -->\n<g id=\"edge8\" class=\"edge\">\n<title>4353158448&#45;&gt;4353158400*</title>\n<path fill=\"none\" stroke=\"black\" d=\"M62.11,-45.58C71.9,-48.49 83.02,-51.79 93.3,-54.85\"/>\n<polygon fill=\"black\" stroke=\"black\" points=\"92,-58.12 102.59,-57.62 94,-51.41 92,-58.12\"/>\n</g>\n</g>\n</svg>\n",
      "text/plain": [
       "<graphviz.graphs.Digraph at 0x1038e6580>"
      ]
     },
     "execution_count": 384,
     "metadata": {},
     "output_type": "execute_result"
    }
   ],
   "execution_count": 384
  },
  {
   "metadata": {
    "ExecuteTime": {
     "end_time": "2025-09-06T13:25:28.100404Z",
     "start_time": "2025-09-06T13:25:28.030347Z"
    }
   },
   "cell_type": "code",
   "source": [
    "d.backward()\n",
    "draw_graph(d)"
   ],
   "id": "a88b4f51e4036525",
   "outputs": [
    {
     "data": {
      "image/svg+xml": "<?xml version=\"1.0\" encoding=\"UTF-8\" standalone=\"no\"?>\n<!DOCTYPE svg PUBLIC \"-//W3C//DTD SVG 1.1//EN\"\n \"http://www.w3.org/Graphics/SVG/1.1/DTD/svg11.dtd\">\n<!-- Generated by graphviz version 13.1.2 (20250808.2320)\n -->\n<!-- Pages: 1 -->\n<svg width=\"1158pt\" height=\"176pt\"\n viewBox=\"0.00 0.00 1158.00 176.00\" xmlns=\"http://www.w3.org/2000/svg\" xmlns:xlink=\"http://www.w3.org/1999/xlink\">\n<g id=\"graph0\" class=\"graph\" transform=\"scale(1 1) rotate(0) translate(4 171.5)\">\n<polygon fill=\"white\" stroke=\"none\" points=\"-4,4 -4,-171.5 1154,-171.5 1154,4 -4,4\"/>\n<!-- 4354631904 -->\n<g id=\"node1\" class=\"node\">\n<title>4354631904</title>\n<polygon fill=\"none\" stroke=\"black\" points=\"961.5,-60.5 961.5,-134 1150,-134 1150,-60.5 961.5,-60.5\"/>\n<text xml:space=\"preserve\" text-anchor=\"middle\" x=\"1055.75\" y=\"-116.7\" font-family=\"Times,serif\" font-size=\"14.00\">d</text>\n<polyline fill=\"none\" stroke=\"black\" points=\"961.5,-109.5 1150,-109.5\"/>\n<text xml:space=\"preserve\" text-anchor=\"middle\" x=\"1055.75\" y=\"-92.2\" font-family=\"Times,serif\" font-size=\"14.00\">Data: 6.235149080811617e+27</text>\n<polyline fill=\"none\" stroke=\"black\" points=\"961.5,-85 1150,-85\"/>\n<text xml:space=\"preserve\" text-anchor=\"middle\" x=\"1055.75\" y=\"-67.7\" font-family=\"Times,serif\" font-size=\"14.00\">Grad: 1</text>\n</g>\n<!-- 4354631904exp -->\n<g id=\"node2\" class=\"node\">\n<title>4354631904exp</title>\n<ellipse fill=\"none\" stroke=\"black\" cx=\"898.5\" cy=\"-97.25\" rx=\"27\" ry=\"18\"/>\n<text xml:space=\"preserve\" text-anchor=\"middle\" x=\"898.5\" y=\"-92.2\" font-family=\"Times,serif\" font-size=\"14.00\">exp</text>\n</g>\n<!-- 4354631904exp&#45;&gt;4354631904 -->\n<g id=\"edge1\" class=\"edge\">\n<title>4354631904exp&#45;&gt;4354631904</title>\n<path fill=\"none\" stroke=\"black\" d=\"M925.84,-97.25C932.95,-97.25 941.11,-97.25 949.79,-97.25\"/>\n<polygon fill=\"black\" stroke=\"black\" points=\"949.51,-100.75 959.51,-97.25 949.51,-93.75 949.51,-100.75\"/>\n</g>\n<!-- 4351553696 -->\n<g id=\"node3\" class=\"node\">\n<title>4351553696</title>\n<polygon fill=\"none\" stroke=\"black\" points=\"645.5,-60.5 645.5,-134 835.5,-134 835.5,-60.5 645.5,-60.5\"/>\n<text xml:space=\"preserve\" text-anchor=\"middle\" x=\"740.5\" y=\"-116.7\" font-family=\"Times,serif\" font-size=\"14.00\">c</text>\n<polyline fill=\"none\" stroke=\"black\" points=\"645.5,-109.5 835.5,-109.5\"/>\n<text xml:space=\"preserve\" text-anchor=\"middle\" x=\"740.5\" y=\"-92.2\" font-family=\"Times,serif\" font-size=\"14.00\">Data: 64.0</text>\n<polyline fill=\"none\" stroke=\"black\" points=\"645.5,-85 835.5,-85\"/>\n<text xml:space=\"preserve\" text-anchor=\"middle\" x=\"740.5\" y=\"-67.7\" font-family=\"Times,serif\" font-size=\"14.00\">Grad: 6.235149080811617e+27</text>\n</g>\n<!-- 4351553696&#45;&gt;4354631904exp -->\n<g id=\"edge2\" class=\"edge\">\n<title>4351553696&#45;&gt;4354631904exp</title>\n<path fill=\"none\" stroke=\"black\" d=\"M835.84,-97.25C844.17,-97.25 852.23,-97.25 859.63,-97.25\"/>\n<polygon fill=\"black\" stroke=\"black\" points=\"859.5,-100.75 869.5,-97.25 859.5,-93.75 859.5,-100.75\"/>\n</g>\n<!-- 4351553696** -->\n<g id=\"node4\" class=\"node\">\n<title>4351553696**</title>\n<ellipse fill=\"none\" stroke=\"black\" cx=\"582.5\" cy=\"-97.25\" rx=\"27\" ry=\"18\"/>\n<text xml:space=\"preserve\" text-anchor=\"middle\" x=\"582.5\" y=\"-92.2\" font-family=\"Times,serif\" font-size=\"14.00\">**</text>\n</g>\n<!-- 4351553696**&#45;&gt;4351553696 -->\n<g id=\"edge3\" class=\"edge\">\n<title>4351553696**&#45;&gt;4351553696</title>\n<path fill=\"none\" stroke=\"black\" d=\"M609.96,-97.25C617.11,-97.25 625.31,-97.25 634.03,-97.25\"/>\n<polygon fill=\"black\" stroke=\"black\" points=\"633.81,-100.75 643.81,-97.25 633.81,-93.75 633.81,-100.75\"/>\n</g>\n<!-- 4354840944 -->\n<g id=\"node5\" class=\"node\">\n<title>4354840944</title>\n<polygon fill=\"none\" stroke=\"black\" points=\"0,-93.5 0,-167 196.75,-167 196.75,-93.5 0,-93.5\"/>\n<text xml:space=\"preserve\" text-anchor=\"middle\" x=\"98.38\" y=\"-149.7\" font-family=\"Times,serif\" font-size=\"14.00\">a</text>\n<polyline fill=\"none\" stroke=\"black\" points=\"0,-142.5 196.75,-142.5\"/>\n<text xml:space=\"preserve\" text-anchor=\"middle\" x=\"98.38\" y=\"-125.2\" font-family=\"Times,serif\" font-size=\"14.00\">Data: 2.0</text>\n<polyline fill=\"none\" stroke=\"black\" points=\"0,-118 196.75,-118\"/>\n<text xml:space=\"preserve\" text-anchor=\"middle\" x=\"98.38\" y=\"-100.7\" font-family=\"Times,serif\" font-size=\"14.00\">Grad: 2.0269488166170479e+30</text>\n</g>\n<!-- 4354840944&#45;&gt;4351553696** -->\n<g id=\"edge4\" class=\"edge\">\n<title>4354840944&#45;&gt;4351553696**</title>\n<path fill=\"none\" stroke=\"black\" d=\"M197.01,-130.71C282.44,-129.95 409.69,-126.01 519.5,-111.25 528.07,-110.1 537.21,-108.34 545.75,-106.45\"/>\n<polygon fill=\"black\" stroke=\"black\" points=\"546.52,-109.87 555.47,-104.19 544.94,-103.05 546.52,-109.87\"/>\n</g>\n<!-- 4353158400* -->\n<g id=\"node7\" class=\"node\">\n<title>4353158400*</title>\n<ellipse fill=\"none\" stroke=\"black\" cx=\"259.75\" cy=\"-65.25\" rx=\"27\" ry=\"18\"/>\n<text xml:space=\"preserve\" text-anchor=\"middle\" x=\"259.75\" y=\"-60.2\" font-family=\"Times,serif\" font-size=\"14.00\">*</text>\n</g>\n<!-- 4354840944&#45;&gt;4353158400* -->\n<g id=\"edge7\" class=\"edge\">\n<title>4354840944&#45;&gt;4353158400*</title>\n<path fill=\"none\" stroke=\"black\" d=\"M190.7,-93C203.06,-87.96 215.04,-83.08 225.41,-78.85\"/>\n<polygon fill=\"black\" stroke=\"black\" points=\"226.64,-82.13 234.58,-75.11 223.99,-75.64 226.64,-82.13\"/>\n</g>\n<!-- 4353158400 -->\n<g id=\"node6\" class=\"node\">\n<title>4353158400</title>\n<polygon fill=\"none\" stroke=\"black\" points=\"322.75,-28.5 322.75,-102 519.5,-102 519.5,-28.5 322.75,-28.5\"/>\n<text xml:space=\"preserve\" text-anchor=\"middle\" x=\"421.12\" y=\"-84.7\" font-family=\"Times,serif\" font-size=\"14.00\">b</text>\n<polyline fill=\"none\" stroke=\"black\" points=\"322.75,-77.5 519.5,-77.5\"/>\n<text xml:space=\"preserve\" text-anchor=\"middle\" x=\"421.12\" y=\"-60.2\" font-family=\"Times,serif\" font-size=\"14.00\">Data: 6.0</text>\n<polyline fill=\"none\" stroke=\"black\" points=\"322.75,-53 519.5,-53\"/>\n<text xml:space=\"preserve\" text-anchor=\"middle\" x=\"421.12\" y=\"-35.7\" font-family=\"Times,serif\" font-size=\"14.00\">Grad: 2.7660006436707243e+29</text>\n</g>\n<!-- 4353158400&#45;&gt;4351553696** -->\n<g id=\"edge5\" class=\"edge\">\n<title>4353158400&#45;&gt;4351553696**</title>\n<path fill=\"none\" stroke=\"black\" d=\"M519.88,-84.88C528.78,-86.66 537.36,-88.39 545.15,-89.95\"/>\n<polygon fill=\"black\" stroke=\"black\" points=\"544.32,-93.36 554.82,-91.89 545.7,-86.49 544.32,-93.36\"/>\n</g>\n<!-- 4353158400*&#45;&gt;4353158400 -->\n<g id=\"edge6\" class=\"edge\">\n<title>4353158400*&#45;&gt;4353158400</title>\n<path fill=\"none\" stroke=\"black\" d=\"M287.07,-65.25C294.22,-65.25 302.43,-65.25 311.18,-65.25\"/>\n<polygon fill=\"black\" stroke=\"black\" points=\"311.02,-68.75 321.02,-65.25 311.02,-61.75 311.02,-68.75\"/>\n</g>\n<!-- 4353158448 -->\n<g id=\"node8\" class=\"node\">\n<title>4353158448</title>\n<polygon fill=\"none\" stroke=\"black\" points=\"0,-0.5 0,-74 196.75,-74 196.75,-0.5 0,-0.5\"/>\n<text xml:space=\"preserve\" text-anchor=\"middle\" x=\"98.38\" y=\"-56.7\" font-family=\"Times,serif\" font-size=\"14.00\"> </text>\n<polyline fill=\"none\" stroke=\"black\" points=\"0,-49.5 196.75,-49.5\"/>\n<text xml:space=\"preserve\" text-anchor=\"middle\" x=\"98.38\" y=\"-32.2\" font-family=\"Times,serif\" font-size=\"14.00\">Data: 3</text>\n<polyline fill=\"none\" stroke=\"black\" points=\"0,-25 196.75,-25\"/>\n<text xml:space=\"preserve\" text-anchor=\"middle\" x=\"98.38\" y=\"-7.7\" font-family=\"Times,serif\" font-size=\"14.00\">Grad: 5.5320012873414486e+29</text>\n</g>\n<!-- 4353158448&#45;&gt;4353158400* -->\n<g id=\"edge8\" class=\"edge\">\n<title>4353158448&#45;&gt;4353158400*</title>\n<path fill=\"none\" stroke=\"black\" d=\"M197.13,-54.42C205.95,-55.97 214.45,-57.47 222.18,-58.82\"/>\n<polygon fill=\"black\" stroke=\"black\" points=\"221.31,-62.23 231.76,-60.51 222.52,-55.33 221.31,-62.23\"/>\n</g>\n</g>\n</svg>\n",
      "text/plain": [
       "<graphviz.graphs.Digraph at 0x1036e0dc0>"
      ]
     },
     "execution_count": 385,
     "metadata": {},
     "output_type": "execute_result"
    }
   ],
   "execution_count": 385
  },
  {
   "metadata": {
    "ExecuteTime": {
     "end_time": "2025-09-06T13:25:28.203700Z",
     "start_time": "2025-09-06T13:25:28.118107Z"
    }
   },
   "cell_type": "code",
   "source": [
    "a = Value(1)\n",
    "b = Value(2)\n",
    "draw_graph(a+b)"
   ],
   "id": "1379a07babc809be",
   "outputs": [
    {
     "data": {
      "image/svg+xml": "<?xml version=\"1.0\" encoding=\"UTF-8\" standalone=\"no\"?>\n<!DOCTYPE svg PUBLIC \"-//W3C//DTD SVG 1.1//EN\"\n \"http://www.w3.org/Graphics/SVG/1.1/DTD/svg11.dtd\">\n<!-- Generated by graphviz version 13.1.2 (20250808.2320)\n -->\n<!-- Pages: 1 -->\n<svg width=\"249pt\" height=\"176pt\"\n viewBox=\"0.00 0.00 249.00 176.00\" xmlns=\"http://www.w3.org/2000/svg\" xmlns:xlink=\"http://www.w3.org/1999/xlink\">\n<g id=\"graph0\" class=\"graph\" transform=\"scale(1 1) rotate(0) translate(4 171.5)\">\n<polygon fill=\"white\" stroke=\"none\" points=\"-4,4 -4,-171.5 244.5,-171.5 244.5,4 -4,4\"/>\n<!-- 4353242784 -->\n<g id=\"node1\" class=\"node\">\n<title>4353242784</title>\n<polygon fill=\"none\" stroke=\"black\" points=\"183.25,-46.5 183.25,-120 240.5,-120 240.5,-46.5 183.25,-46.5\"/>\n<text xml:space=\"preserve\" text-anchor=\"middle\" x=\"211.88\" y=\"-102.7\" font-family=\"Times,serif\" font-size=\"14.00\"> </text>\n<polyline fill=\"none\" stroke=\"black\" points=\"183.25,-95.5 240.5,-95.5\"/>\n<text xml:space=\"preserve\" text-anchor=\"middle\" x=\"211.88\" y=\"-78.2\" font-family=\"Times,serif\" font-size=\"14.00\">Data: 3</text>\n<polyline fill=\"none\" stroke=\"black\" points=\"183.25,-71 240.5,-71\"/>\n<text xml:space=\"preserve\" text-anchor=\"middle\" x=\"211.88\" y=\"-53.7\" font-family=\"Times,serif\" font-size=\"14.00\">Grad: 0</text>\n</g>\n<!-- 4353242784+ -->\n<g id=\"node2\" class=\"node\">\n<title>4353242784+</title>\n<ellipse fill=\"none\" stroke=\"black\" cx=\"120.25\" cy=\"-83.25\" rx=\"27\" ry=\"18\"/>\n<text xml:space=\"preserve\" text-anchor=\"middle\" x=\"120.25\" y=\"-78.2\" font-family=\"Times,serif\" font-size=\"14.00\">+</text>\n</g>\n<!-- 4353242784+&#45;&gt;4353242784 -->\n<g id=\"edge1\" class=\"edge\">\n<title>4353242784+&#45;&gt;4353242784</title>\n<path fill=\"none\" stroke=\"black\" d=\"M147.66,-83.25C155.08,-83.25 163.32,-83.25 171.33,-83.25\"/>\n<polygon fill=\"black\" stroke=\"black\" points=\"171.27,-86.75 181.27,-83.25 171.27,-79.75 171.27,-86.75\"/>\n</g>\n<!-- 4354839456 -->\n<g id=\"node3\" class=\"node\">\n<title>4354839456</title>\n<polygon fill=\"none\" stroke=\"black\" points=\"0,-93.5 0,-167 57.25,-167 57.25,-93.5 0,-93.5\"/>\n<text xml:space=\"preserve\" text-anchor=\"middle\" x=\"28.62\" y=\"-149.7\" font-family=\"Times,serif\" font-size=\"14.00\"> </text>\n<polyline fill=\"none\" stroke=\"black\" points=\"0,-142.5 57.25,-142.5\"/>\n<text xml:space=\"preserve\" text-anchor=\"middle\" x=\"28.62\" y=\"-125.2\" font-family=\"Times,serif\" font-size=\"14.00\">Data: 1</text>\n<polyline fill=\"none\" stroke=\"black\" points=\"0,-118 57.25,-118\"/>\n<text xml:space=\"preserve\" text-anchor=\"middle\" x=\"28.62\" y=\"-100.7\" font-family=\"Times,serif\" font-size=\"14.00\">Grad: 0</text>\n</g>\n<!-- 4354839456&#45;&gt;4353242784+ -->\n<g id=\"edge2\" class=\"edge\">\n<title>4354839456&#45;&gt;4353242784+</title>\n<path fill=\"none\" stroke=\"black\" d=\"M57.49,-115.64C67.25,-110.52 78.28,-104.74 88.28,-99.49\"/>\n<polygon fill=\"black\" stroke=\"black\" points=\"89.67,-102.72 96.9,-94.97 86.41,-96.52 89.67,-102.72\"/>\n</g>\n<!-- 4353188288 -->\n<g id=\"node4\" class=\"node\">\n<title>4353188288</title>\n<polygon fill=\"none\" stroke=\"black\" points=\"0,-0.5 0,-74 57.25,-74 57.25,-0.5 0,-0.5\"/>\n<text xml:space=\"preserve\" text-anchor=\"middle\" x=\"28.62\" y=\"-56.7\" font-family=\"Times,serif\" font-size=\"14.00\"> </text>\n<polyline fill=\"none\" stroke=\"black\" points=\"0,-49.5 57.25,-49.5\"/>\n<text xml:space=\"preserve\" text-anchor=\"middle\" x=\"28.62\" y=\"-32.2\" font-family=\"Times,serif\" font-size=\"14.00\">Data: 2</text>\n<polyline fill=\"none\" stroke=\"black\" points=\"0,-25 57.25,-25\"/>\n<text xml:space=\"preserve\" text-anchor=\"middle\" x=\"28.62\" y=\"-7.7\" font-family=\"Times,serif\" font-size=\"14.00\">Grad: 0</text>\n</g>\n<!-- 4353188288&#45;&gt;4353242784+ -->\n<g id=\"edge3\" class=\"edge\">\n<title>4353188288&#45;&gt;4353242784+</title>\n<path fill=\"none\" stroke=\"black\" d=\"M57.49,-51.55C67.25,-56.56 78.28,-62.22 88.28,-67.35\"/>\n<polygon fill=\"black\" stroke=\"black\" points=\"86.4,-70.32 96.89,-71.77 89.59,-64.09 86.4,-70.32\"/>\n</g>\n</g>\n</svg>\n",
      "text/plain": [
       "<graphviz.graphs.Digraph at 0x103793be0>"
      ]
     },
     "execution_count": 386,
     "metadata": {},
     "output_type": "execute_result"
    }
   ],
   "execution_count": 386
  },
  {
   "metadata": {
    "ExecuteTime": {
     "end_time": "2025-09-06T13:25:28.210326Z",
     "start_time": "2025-09-06T13:25:28.208344Z"
    }
   },
   "cell_type": "code",
   "source": "",
   "id": "cad3edbba288b508",
   "outputs": [],
   "execution_count": null
  }
 ],
 "metadata": {
  "kernelspec": {
   "name": "python3",
   "language": "python",
   "display_name": "Python 3 (ipykernel)"
  }
 },
 "nbformat": 4,
 "nbformat_minor": 5
}
